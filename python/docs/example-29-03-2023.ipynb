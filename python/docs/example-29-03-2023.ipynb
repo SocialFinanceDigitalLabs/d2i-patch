{
 "cells": [
  {
   "cell_type": "code",
   "execution_count": 2,
   "metadata": {},
   "outputs": [],
   "source": [
    "from patch import Patch, Page, TextInput"
   ]
  },
  {
   "cell_type": "code",
   "execution_count": 3,
   "metadata": {},
   "outputs": [
    {
     "name": "stdout",
     "output_type": "stream",
     "text": [
      "[<patch.app.page.Page object at 0x1123ba650>]\n"
     ]
    }
   ],
   "source": [
    "app = Patch()\n",
    "\n",
    "app.add_page(Page(\n",
    "    name='index',\n",
    "    controller={'next': 'greeting'},\n",
    "    components=[TextInput(name='name', required=True)],\n",
    "))\n",
    "\n",
    "# list all the pages within the app\n",
    "print(app.pages)"
   ]
  },
  {
   "cell_type": "code",
   "execution_count": 5,
   "metadata": {},
   "outputs": [],
   "source": [
    "# Still not sure on how to \"start\" the app. Is it the router the one that should control this? How?\n",
    "app.run()"
   ]
  },
  {
   "cell_type": "code",
   "execution_count": null,
   "metadata": {},
   "outputs": [],
   "source": []
  }
 ],
 "metadata": {
  "kernelspec": {
   "display_name": ".venv",
   "language": "python",
   "name": "python3"
  },
  "language_info": {
   "codemirror_mode": {
    "name": "ipython",
    "version": 3
   },
   "file_extension": ".py",
   "mimetype": "text/x-python",
   "name": "python",
   "nbconvert_exporter": "python",
   "pygments_lexer": "ipython3",
   "version": "3.11.2"
  },
  "orig_nbformat": 4
 },
 "nbformat": 4,
 "nbformat_minor": 2
}
