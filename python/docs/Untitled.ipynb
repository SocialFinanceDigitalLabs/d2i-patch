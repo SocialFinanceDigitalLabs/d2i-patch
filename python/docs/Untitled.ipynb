{
 "cells": [
  {
   "cell_type": "code",
   "execution_count": 1,
   "id": "5d37b961-74cb-4278-b6b1-90ba3b231ea5",
   "metadata": {
    "tags": []
   },
   "outputs": [],
   "source": [
    "import numpy as np\n",
    "import pandas as pd\n",
    "from matplotlib import pyplot as plt\n",
    "\n",
    "from d2i_patch.app import *\n",
    "\n",
    "%matplotlib inline"
   ]
  },
  {
   "cell_type": "code",
   "execution_count": 2,
   "id": "56df2702-c098-4414-90df-5e194f21ae70",
   "metadata": {},
   "outputs": [],
   "source": [
    "def polynomial(x, a, b, c):\n",
    "    return a*(x**2) + b*(x**1) + c"
   ]
  },
  {
   "cell_type": "code",
   "execution_count": 9,
   "id": "6febd7bf-3fc4-4327-a979-2c88530b4c0d",
   "metadata": {
    "tags": []
   },
   "outputs": [],
   "source": [
    "a=.5\n",
    "b=6\n",
    "c=2\n",
    "\n",
    "def plot_me(a, b, c):\n",
    "    x = tuple(range(-10, 10))\n",
    "    y = [polynomial(x, a, b, c) for x in x]\n",
    "\n",
    "    fig = plt.figure()\n",
    "    ax = fig.add_subplot(1, 1, 1)\n",
    "    ax.plot(x, y, color='red')"
   ]
  },
  {
   "cell_type": "code",
   "execution_count": 10,
   "id": "6df6fc9a-22d7-4468-8024-bd67824668e5",
   "metadata": {
    "tags": []
   },
   "outputs": [
    {
     "data": {
      "image/png": "[encoded data removed]",
      "text/plain": [
       "<Figure size 640x480 with 1 Axes>"
      ]
     },
     "metadata": {},
     "output_type": "display_data"
    }
   ],
   "source": [
    "plot_me(5,7,3)"
   ]
  },
  {
   "cell_type": "code",
   "execution_count": 15,
   "id": "54bdd4a2-df4b-48db-9630-7af9bfd7a160",
   "metadata": {
    "tags": []
   },
   "outputs": [],
   "source": [
    "input_view = View(components=[\n",
    "    Paragraph('Plots a polynomial of the form ax^2 + bx + c'),\n",
    "    Paragraph('Sorry, tell me'),\n",
    "    NumberField('a', 'Coefficient a'),\n",
    "    NumberField('b', 'Coefficient b'),\n",
    "    NumberField('c', 'Coefficient c'),\n",
    "    Button('Submit'),\n",
    "])\n"
   ]
  },
  {
   "cell_type": "code",
   "execution_count": 16,
   "id": "d058e3b0-cfec-4fb4-9d4c-d1c50bbfe807",
   "metadata": {
    "tags": []
   },
   "outputs": [],
   "source": [
    "chart_view = View(components=[\n",
    "    Chart(generator=plot_me)  \n",
    "])"
   ]
  },
  {
   "cell_type": "code",
   "execution_count": 17,
   "id": "38bd9e0e-6a30-4c91-9ab8-07445ba90d24",
   "metadata": {
    "tags": []
   },
   "outputs": [],
   "source": [
    "app = PatchApp(\"Polynomial\", views=[input_view, chart_view])"
   ]
  },
  {
   "cell_type": "code",
   "execution_count": 18,
   "id": "83f89731-a6da-4765-93b9-f7a41a2552d6",
   "metadata": {
    "tags": []
   },
   "outputs": [
    {
     "name": "stdout",
     "output_type": "stream",
     "text": [
      "name: Polynomial\n",
      "views:\n",
      "- components:\n",
      "  - type: Paragraph\n",
      "    text: Plots a polynomial of the form ax^2 + bx + c\n",
      "  - type: Paragraph\n",
      "    text: Sorry, tell me\n",
      "  - type: NumberField\n",
      "    name: a\n",
      "    description: Coefficient a\n",
      "  - type: NumberField\n",
      "    name: b\n",
      "    description: Coefficient b\n",
      "  - type: NumberField\n",
      "    name: c\n",
      "    description: Coefficient c\n",
      "  - type: Button\n",
      "    text: Submit\n",
      "- components:\n",
      "  - type: Chart\n",
      "    code: |-\n",
      "      from matplotlib import pyplot as plt\n",
      "      def polynomial(x, a, b, c):\n",
      "          return a*(x**2) + b*(x**1) + c\n",
      "\n",
      "      def plot_me(a, b, c):\n",
      "          x = tuple(range(-10, 10))\n",
      "          y = [polynomial(x, a, b, c) for x in x]\n",
      "\n",
      "          fig = plt.figure()\n",
      "          ax = fig.add_subplot(1, 1, 1)\n",
      "          ax.plot(x, y, color='red')\n",
      "\n",
      "      plot_me\n",
      "\n"
     ]
    }
   ],
   "source": [
    "print(app.yaml())"
   ]
  },
  {
   "cell_type": "code",
   "execution_count": 19,
   "id": "6a1ac729-b280-498b-b9ef-90062c89a932",
   "metadata": {
    "tags": []
   },
   "outputs": [
    {
     "name": "stdout",
     "output_type": "stream",
     "text": [
      "{\"name\": \"Polynomial\", \"views\": [{\"name\": null, \"components\": [{\"type\": \"Paragraph\", \"text\": \"Plots a polynomial of the form ax^2 + bx + c\"}, {\"type\": \"Paragraph\", \"text\": \"Sorry, tell me\"}, {\"type\": \"NumberField\", \"name\": \"a\", \"description\": \"Coefficient a\"}, {\"type\": \"NumberField\", \"name\": \"b\", \"description\": \"Coefficient b\"}, {\"type\": \"NumberField\", \"name\": \"c\", \"description\": \"Coefficient c\"}, {\"type\": \"Button\", \"text\": \"Submit\", \"action\": null}]}, {\"name\": null, \"components\": [{\"type\": \"Chart\", \"code\": \"from matplotlib import pyplot as plt\\ndef polynomial(x, a, b, c):\\n    return a*(x**2) + b*(x**1) + c\\n\\ndef plot_me(a, b, c):\\n    x = tuple(range(-10, 10))\\n    y = [polynomial(x, a, b, c) for x in x]\\n\\n    fig = plt.figure()\\n    ax = fig.add_subplot(1, 1, 1)\\n    ax.plot(x, y, color='red')\\n\\nplot_me\", \"code_enc\": null}]}]}\n"
     ]
    }
   ],
   "source": [
    "print(app.json())"
   ]
  },
  {
   "cell_type": "code",
   "execution_count": null,
   "id": "759aeb87-d9f8-4b50-ba3d-b44f89187bfe",
   "metadata": {},
   "outputs": [],
   "source": []
  }
 ],
 "metadata": {
  "kernelspec": {
   "display_name": "Python 3 (ipykernel)",
   "language": "python",
   "name": "python3"
  },
  "language_info": {
   "codemirror_mode": {
    "name": "ipython",
    "version": 3
   },
   "file_extension": ".py",
   "mimetype": "text/x-python",
   "name": "python",
   "nbconvert_exporter": "python",
   "pygments_lexer": "ipython3",
   "version": "3.10.9"
  }
 },
 "nbformat": 4,
 "nbformat_minor": 5
}
