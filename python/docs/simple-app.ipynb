{
 "cells": [
  {
   "cell_type": "code",
   "execution_count": 1,
   "metadata": {
    "tags": []
   },
   "outputs": [],
   "source": [
    "import numpy as np\n",
    "import pandas as pd\n",
    "from matplotlib import pyplot as plt\n",
    "\n",
    "from d2i_patch.app import *\n",
    "\n",
    "%matplotlib inline"
   ]
  },
  {
   "cell_type": "code",
   "execution_count": 2,
   "metadata": {
    "tags": []
   },
   "outputs": [],
   "source": [
    "def polynomial(x, a, b, c):\n",
    "    return a*(x**2) + b*x + c"
   ]
  },
  {
   "cell_type": "code",
   "execution_count": 3,
   "metadata": {
    "tags": []
   },
   "outputs": [],
   "source": [
    "def plot_poly(a, b, c):\n",
    "    x = tuple(range(-10, 10))\n",
    "    y = [polynomial(x, a, b, c) for x in x]\n",
    "\n",
    "    fig = plt.figure()\n",
    "    ax = fig.add_subplot(1, 1, 1)\n",
    "    ax.plot(x, y, color='tab:blue')\n",
    "    \n",
    "    return fig"
   ]
  },
  {
   "cell_type": "code",
   "execution_count": 4,
   "metadata": {
    "tags": []
   },
   "outputs": [
    {
     "data": {
      "image/png": "[encoded data removed]",
      "text/plain": [
       "<Figure size 640x480 with 1 Axes>"
      ]
     },
     "metadata": {},
     "output_type": "display_data"
    }
   ],
   "source": [
    "fig = plot_poly(a=0.5, b=5, c=3)"
   ]
  },
  {
   "cell_type": "code",
   "execution_count": 5,
   "metadata": {
    "tags": []
   },
   "outputs": [],
   "source": [
    "input_view = View(components=[\n",
    "    Paragraph('Plots a polynomial of the form ax^2 + bx + c'),\n",
    "    NumberField('a', 'Coefficient a'),\n",
    "    NumberField('b', 'Coefficient b'),\n",
    "    NumberField('c', 'Coefficient c'),\n",
    "    Button('Submit'),\n",
    "])\n",
    "\n",
    "chart_view = View(components=[\n",
    "    Chart(generator=plot_poly)  \n",
    "])\n",
    "\n",
    "app = PatchApp(\"Polynomial\", views=[input_view, chart_view])"
   ]
  },
  {
   "cell_type": "code",
   "execution_count": 6,
   "metadata": {
    "tags": []
   },
   "outputs": [
    {
     "data": {
      "text/plain": [
       "PatchApp(name='Polynomial', views=[View(name=None, components=[Paragraph(type='Paragraph', text='Plots a polynomial of the form ax^2 + bx + c'), NumberField(type='NumberField', name='a', description='Coefficient a'), NumberField(type='NumberField', name='b', description='Coefficient b'), NumberField(type='NumberField', name='c', description='Coefficient c'), Button(type='Button', text='Submit', action=None)]), View(name=None, components=[Chart(type='Chart', code=\"def polynomial(x, a, b, c):\\n    return a*(x**2) + b*x + c\\nfrom matplotlib import pyplot as plt\\n\\ndef plot_poly(a, b, c):\\n    x = tuple(range(-10, 10))\\n    y = [polynomial(x, a, b, c) for x in x]\\n\\n    fig = plt.figure()\\n    ax = fig.add_subplot(1, 1, 1)\\n    ax.plot(x, y, color='tab:blue')\\n\\n    return fig\\n\\nplot_poly\")])])"
      ]
     },
     "execution_count": 6,
     "metadata": {},
     "output_type": "execute_result"
    }
   ],
   "source": [
    "app"
   ]
  },
  {
   "cell_type": "code",
   "execution_count": 7,
   "metadata": {
    "tags": []
   },
   "outputs": [
    {
     "name": "stdout",
     "output_type": "stream",
     "text": [
      "name: Polynomial\n",
      "views:\n",
      "- components:\n",
      "  - type: Paragraph\n",
      "    text: Plots a polynomial of the form ax^2 + bx + c\n",
      "  - type: NumberField\n",
      "    name: a\n",
      "    description: Coefficient a\n",
      "  - type: NumberField\n",
      "    name: b\n",
      "    description: Coefficient b\n",
      "  - type: NumberField\n",
      "    name: c\n",
      "    description: Coefficient c\n",
      "  - type: Button\n",
      "    text: Submit\n",
      "- components:\n",
      "  - type: Chart\n",
      "    code: |-\n",
      "      def polynomial(x, a, b, c):\n",
      "          return a*(x**2) + b*x + c\n",
      "      from matplotlib import pyplot as plt\n",
      "\n",
      "      def plot_poly(a, b, c):\n",
      "          x = tuple(range(-10, 10))\n",
      "          y = [polynomial(x, a, b, c) for x in x]\n",
      "\n",
      "          fig = plt.figure()\n",
      "          ax = fig.add_subplot(1, 1, 1)\n",
      "          ax.plot(x, y, color='tab:blue')\n",
      "\n",
      "          return fig\n",
      "\n",
      "      plot_poly\n",
      "\n"
     ]
    }
   ],
   "source": [
    "print(app.yaml())"
   ]
  },
  {
   "cell_type": "code",
   "execution_count": null,
   "metadata": {},
   "outputs": [],
   "source": []
  }
 ],
 "metadata": {
  "kernelspec": {
   "display_name": "Python 3 (ipykernel)",
   "language": "python",
   "name": "python3"
  },
  "language_info": {
   "codemirror_mode": {
    "name": "ipython",
    "version": 3
   },
   "file_extension": ".py",
   "mimetype": "text/x-python",
   "name": "python",
   "nbconvert_exporter": "python",
   "pygments_lexer": "ipython3",
   "version": "3.10.9"
  }
 },
 "nbformat": 4,
 "nbformat_minor": 4
}
